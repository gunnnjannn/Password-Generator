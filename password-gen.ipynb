{
 "cells": [
  {
   "cell_type": "code",
   "execution_count": 23,
   "id": "175431ab-7da5-42ff-b0de-6e0b94ae48b7",
   "metadata": {},
   "outputs": [
    {
     "name": "stdin",
     "output_type": "stream",
     "text": [
      "Please enter the length of password required:  8\n"
     ]
    },
    {
     "name": "stdout",
     "output_type": "stream",
     "text": [
      "Password is:  acLjm4w#\n"
     ]
    }
   ],
   "source": [
    "import random\n",
    "import string\n",
    "l = []\n",
    "for i in range (97, 123):    \n",
    "    l.append(chr(i))\n",
    "\n",
    "for i in range (65,91):\n",
    "    l.append(chr(i))\n",
    "\n",
    "for i in range (48, 58):\n",
    "    l.append(chr(i))\n",
    "\n",
    "special = [\"!\", \"@\", \"#\", \"$\", \"%\", \"&\", \"*\"]\n",
    "l.extend(special)\n",
    "\n",
    "def pw_gen(n):\n",
    "    p = random.choices(l, k=n)\n",
    "    password = ''.join(p)\n",
    "    return password\n",
    "    \n",
    "x = int(input(\"Please enter the length of password required: \"))\n",
    "\n",
    "print(\"Password is: \", pw_gen(x))"
   ]
  },
  {
   "cell_type": "code",
   "execution_count": null,
   "id": "c1cc047f-2e6a-41e5-b298-36d3e01ac843",
   "metadata": {},
   "outputs": [],
   "source": []
  },
  {
   "cell_type": "code",
   "execution_count": null,
   "id": "5cf3ed7f-d0e8-4a14-8368-e92634656b81",
   "metadata": {},
   "outputs": [],
   "source": []
  }
 ],
 "metadata": {
  "kernelspec": {
   "display_name": "Python 3 (ipykernel)",
   "language": "python",
   "name": "python3"
  },
  "language_info": {
   "codemirror_mode": {
    "name": "ipython",
    "version": 3
   },
   "file_extension": ".py",
   "mimetype": "text/x-python",
   "name": "python",
   "nbconvert_exporter": "python",
   "pygments_lexer": "ipython3",
   "version": "3.12.7"
  }
 },
 "nbformat": 4,
 "nbformat_minor": 5
}
